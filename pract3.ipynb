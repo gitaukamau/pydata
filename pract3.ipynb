{
 "cells": [
  {
   "cell_type": "code",
   "execution_count": 1,
   "metadata": {},
   "outputs": [],
   "source": [
    "import numpy as np\n",
    "#make an array immutable\n",
    "p = np.ones(8)\n",
    "p.flags.writeable= False\n"
   ]
  },
  {
   "cell_type": "code",
   "execution_count": 16,
   "metadata": {},
   "outputs": [
    {
     "name": "stdout",
     "output_type": "stream",
     "text": [
      "False\n"
     ]
    }
   ],
   "source": [
    "#consider two random arrays A and B check if they are equal\n",
    "A = np.random.randint(2,8,5)\n",
    "B = np.random.randint(2,8,5)\n",
    "equal = np.allclose(A,B)\n",
    "print(equal)"
   ]
  },
  {
   "cell_type": "code",
   "execution_count": 9,
   "metadata": {},
   "outputs": [
    {
     "name": "stderr",
     "output_type": "stream",
     "text": [
      "C:\\Users\\Gitau\\AppData\\Local\\Temp\\ipykernel_15116\\3598575754.py:2: RuntimeWarning: invalid value encountered in sqrt\n",
      "  np.sqrt(-1)==np.emath.sqrt(-1)\n"
     ]
    },
    {
     "data": {
      "text/plain": [
       "np.False_"
      ]
     },
     "execution_count": 9,
     "metadata": {},
     "output_type": "execute_result"
    }
   ],
   "source": [
    "#isthe following expression true\n",
    "np.sqrt(-1)==np.emath.sqrt(-1) \n",
    "\n",
    "#its not true, np.sqrt(-1) returns Nan while the other returns a complex value\n"
   ]
  },
  {
   "cell_type": "code",
   "execution_count": 14,
   "metadata": {},
   "outputs": [
    {
     "name": "stdout",
     "output_type": "stream",
     "text": [
      "Yesterday's date was 2024-10-22 17:15:49.230619\n",
      "Today's date is 2024-10-23 17:15:49.230270\n",
      "Tomorrow's date will be 2024-10-24 17:15:49.230948\n"
     ]
    }
   ],
   "source": [
    "#how to get the dates of yesterday, today and tommorow\n",
    "from datetime import datetime, timedelta\n",
    "today = datetime.today()\n",
    "yesterday = datetime.today()- timedelta(1)\n",
    "tomorrow = datetime.today()+ timedelta(1)\n",
    "print(f\"Yesterday's date was {yesterday}\")\n",
    "print(f\"Today's date is {today}\")\n",
    "print(f\"Tomorrow's date will be {tomorrow}\")\n"
   ]
  },
  {
   "cell_type": "code",
   "execution_count": 20,
   "metadata": {},
   "outputs": [
    {
     "data": {
      "text/plain": [
       "array(['2016-07-01', '2016-07-02', '2016-07-03', '2016-07-04',\n",
       "       '2016-07-05', '2016-07-06', '2016-07-07', '2016-07-08',\n",
       "       '2016-07-09', '2016-07-10', '2016-07-11', '2016-07-12',\n",
       "       '2016-07-13', '2016-07-14', '2016-07-15', '2016-07-16',\n",
       "       '2016-07-17', '2016-07-18', '2016-07-19', '2016-07-20',\n",
       "       '2016-07-21', '2016-07-22', '2016-07-23', '2016-07-24',\n",
       "       '2016-07-25', '2016-07-26', '2016-07-27', '2016-07-28',\n",
       "       '2016-07-29', '2016-07-30', '2016-07-31'], dtype='datetime64[D]')"
      ]
     },
     "execution_count": 20,
     "metadata": {},
     "output_type": "execute_result"
    }
   ],
   "source": [
    "# get all the dates corresponding to the month of july 2016\n",
    "dates = np.arange('2016-07','2016-08', dtype = 'datetime64[D]')\n",
    "dates"
   ]
  }
 ],
 "metadata": {
  "kernelspec": {
   "display_name": "Python 3",
   "language": "python",
   "name": "python3"
  },
  "language_info": {
   "codemirror_mode": {
    "name": "ipython",
    "version": 3
   },
   "file_extension": ".py",
   "mimetype": "text/x-python",
   "name": "python",
   "nbconvert_exporter": "python",
   "pygments_lexer": "ipython3",
   "version": "3.13.0"
  }
 },
 "nbformat": 4,
 "nbformat_minor": 2
}
